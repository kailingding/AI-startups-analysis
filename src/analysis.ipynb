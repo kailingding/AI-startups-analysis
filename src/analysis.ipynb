{
 "cells": [
  {
   "cell_type": "code",
   "execution_count": 1,
   "metadata": {},
   "outputs": [],
   "source": [
    "import pandas as pd\n",
    "import numpy as np\n",
    "%matplotlib inline\n",
    "import matplotlib.pyplot as plt"
   ]
  },
  {
   "cell_type": "code",
   "execution_count": 2,
   "metadata": {},
   "outputs": [
    {
     "data": {
      "text/html": [
       "<div>\n",
       "<style scoped>\n",
       "    .dataframe tbody tr th:only-of-type {\n",
       "        vertical-align: middle;\n",
       "    }\n",
       "\n",
       "    .dataframe tbody tr th {\n",
       "        vertical-align: top;\n",
       "    }\n",
       "\n",
       "    .dataframe thead th {\n",
       "        text-align: right;\n",
       "    }\n",
       "</style>\n",
       "<table border=\"1\" class=\"dataframe\">\n",
       "  <thead>\n",
       "    <tr style=\"text-align: right;\">\n",
       "      <th></th>\n",
       "      <th>Unnamed: 0</th>\n",
       "      <th>joined</th>\n",
       "      <th>kind</th>\n",
       "      <th>location</th>\n",
       "      <th>market</th>\n",
       "      <th>name</th>\n",
       "      <th>pitch</th>\n",
       "      <th>raised</th>\n",
       "      <th>size</th>\n",
       "      <th>stage</th>\n",
       "      <th>query</th>\n",
       "      <th>type_</th>\n",
       "      <th>tech</th>\n",
       "    </tr>\n",
       "  </thead>\n",
       "  <tbody>\n",
       "    <tr>\n",
       "      <th>0</th>\n",
       "      <td>0</td>\n",
       "      <td>Jul 10</td>\n",
       "      <td>Startup</td>\n",
       "      <td>Berkeley</td>\n",
       "      <td>Enterprise Resource Planning</td>\n",
       "      <td>Vufind (DBA DeepVu)</td>\n",
       "      <td>\\r\\nDeep learning as a service for maximizing ...</td>\n",
       "      <td>$680,000</td>\n",
       "      <td>11-50</td>\n",
       "      <td>Seed</td>\n",
       "      <td>artificial intelligence</td>\n",
       "      <td>Startup</td>\n",
       "      <td>Python</td>\n",
       "    </tr>\n",
       "    <tr>\n",
       "      <th>1</th>\n",
       "      <td>1</td>\n",
       "      <td>Dec 10</td>\n",
       "      <td>Startup</td>\n",
       "      <td>Toronto</td>\n",
       "      <td>Customer Service</td>\n",
       "      <td>nmodes</td>\n",
       "      <td>\\r\\nnmodes creates Artificial Intelligence sol...</td>\n",
       "      <td>$100,000</td>\n",
       "      <td>1-10</td>\n",
       "      <td>Seed</td>\n",
       "      <td>artificial intelligence</td>\n",
       "      <td>Startup</td>\n",
       "      <td>Python</td>\n",
       "    </tr>\n",
       "    <tr>\n",
       "      <th>2</th>\n",
       "      <td>2</td>\n",
       "      <td>Jan 12</td>\n",
       "      <td>Startup</td>\n",
       "      <td>Santa Monica</td>\n",
       "      <td>Data Mining</td>\n",
       "      <td>Tagasauris</td>\n",
       "      <td>\\r\\nVideo Search and Discovery Platform \\r\\n</td>\n",
       "      <td>$1,000,000</td>\n",
       "      <td>1-10</td>\n",
       "      <td>Seed</td>\n",
       "      <td>artificial intelligence</td>\n",
       "      <td>Startup</td>\n",
       "      <td>Python</td>\n",
       "    </tr>\n",
       "    <tr>\n",
       "      <th>3</th>\n",
       "      <td>3</td>\n",
       "      <td>Apr 12</td>\n",
       "      <td>Startup</td>\n",
       "      <td>San Francisco</td>\n",
       "      <td>Location Based Services</td>\n",
       "      <td>ZoeMob</td>\n",
       "      <td>\\r\\nGlobal Family Assistant\\r\\n</td>\n",
       "      <td>$800,000</td>\n",
       "      <td>1-10</td>\n",
       "      <td>Seed</td>\n",
       "      <td>artificial intelligence</td>\n",
       "      <td>Startup</td>\n",
       "      <td>Python</td>\n",
       "    </tr>\n",
       "    <tr>\n",
       "      <th>4</th>\n",
       "      <td>4</td>\n",
       "      <td>Nov 12</td>\n",
       "      <td>Startup</td>\n",
       "      <td>San Francisco</td>\n",
       "      <td>Machine Learning</td>\n",
       "      <td>Encore</td>\n",
       "      <td>\\r\\nThe first automated data scientist for mar...</td>\n",
       "      <td>$987,000</td>\n",
       "      <td>1-10</td>\n",
       "      <td>Seed</td>\n",
       "      <td>artificial intelligence</td>\n",
       "      <td>Startup</td>\n",
       "      <td>Python</td>\n",
       "    </tr>\n",
       "  </tbody>\n",
       "</table>\n",
       "</div>"
      ],
      "text/plain": [
       "   Unnamed: 0   joined     kind       location                        market  \\\n",
       "0           0  Jul 10  Startup       Berkeley  Enterprise Resource Planning   \n",
       "1           1  Dec 10  Startup        Toronto              Customer Service   \n",
       "2           2  Jan 12  Startup   Santa Monica                   Data Mining   \n",
       "3           3  Apr 12  Startup  San Francisco       Location Based Services   \n",
       "4           4  Nov 12  Startup  San Francisco              Machine Learning   \n",
       "\n",
       "                  name                                              pitch  \\\n",
       "0  Vufind (DBA DeepVu)  \\r\\nDeep learning as a service for maximizing ...   \n",
       "1               nmodes  \\r\\nnmodes creates Artificial Intelligence sol...   \n",
       "2           Tagasauris       \\r\\nVideo Search and Discovery Platform \\r\\n   \n",
       "3               ZoeMob                    \\r\\nGlobal Family Assistant\\r\\n   \n",
       "4               Encore  \\r\\nThe first automated data scientist for mar...   \n",
       "\n",
       "       raised   size stage                    query    type_    tech  \n",
       "0    $680,000  11-50  Seed  artificial intelligence  Startup  Python  \n",
       "1    $100,000   1-10  Seed  artificial intelligence  Startup  Python  \n",
       "2  $1,000,000   1-10  Seed  artificial intelligence  Startup  Python  \n",
       "3    $800,000   1-10  Seed  artificial intelligence  Startup  Python  \n",
       "4    $987,000   1-10  Seed  artificial intelligence  Startup  Python  "
      ]
     },
     "execution_count": 2,
     "metadata": {},
     "output_type": "execute_result"
    }
   ],
   "source": [
    "# read csv file and intialize AI startups dataset \n",
    "df = pd.read_csv(\"startups.csv\").drop(columns=[\"link\", \"website\"])\n",
    "df.head()"
   ]
  },
  {
   "cell_type": "code",
   "execution_count": 3,
   "metadata": {},
   "outputs": [],
   "source": [
    "# convert raised to double\n",
    "import re\n",
    "# convert currency to numerics\n",
    "def currency(s):\n",
    "    try:\n",
    "        return float(''.join(re.findall(r'\\d', s)))\n",
    "    except:\n",
    "        return np.nan\n",
    "\n",
    "df.raised = df.raised.apply(currency)"
   ]
  },
  {
   "cell_type": "code",
   "execution_count": 5,
   "metadata": {},
   "outputs": [
    {
     "data": {
      "image/png": "[encoded data removed]",
      "text/plain": [
       "<Figure size 432x288 with 1 Axes>"
      ]
     },
     "metadata": {
      "needs_background": "light"
     },
     "output_type": "display_data"
    },
    {
     "data": {
      "image/png": "[encoded data removed]",
      "text/plain": [
       "<Figure size 432x288 with 1 Axes>"
      ]
     },
     "metadata": {},
     "output_type": "display_data"
    }
   ],
   "source": [
    "# most used programming language among AI startups\n",
    "# create data\n",
    "programming = df.groupby(['tech']).count().\n",
    "                name.sort_values(ascending=False)\n",
    "\n",
    "# labels and values\n",
    "labels = programming.index.tolist()\n",
    "values = programming.values.tolist()\n",
    "\n",
    "# bar chart\n",
    "plt.bar(np.arange(len(values)), values)\n",
    "plt.xticks(np.arange(len(values)), labels)\n",
    "plt.show()\n",
    "\n",
    "# white circle in the middle\n",
    "white_circle = plt.Circle((0,0), 0.7, color='white')\n",
    "\n",
    "# donut chart\n",
    "plt.pie(values, labels=labels, colors=['orange', 'blue', 'red', 'green'],\n",
    "        pctdistance=0.85,autopct = '%1.1f%%', startangle=140)\n",
    "p=plt.gcf()\n",
    "p.gca().add_artist(white_circle)\n",
    "plt.title(\"Programming Languages\", fontsize=20) \n",
    "\n",
    "plt.show()\n"
   ]
  },
  {
   "cell_type": "code",
   "execution_count": 48,
   "metadata": {},
   "outputs": [
    {
     "data": {
      "image/png": "[encoded data removed]",
      "text/plain": [
       "<Figure size 576x360 with 1 Axes>"
      ]
     },
     "metadata": {
      "needs_background": "light"
     },
     "output_type": "display_data"
    }
   ],
   "source": [
    "# modify the datetime\n",
    "df['joined'] = pd.to_datetime(df['joined'], format = '%b \\x92%y')\n",
    "\n",
    "# line graph\n",
    "date_counts = df.groupby('joined').count().name.cumsum()\n",
    "fig = plt.figure(figsize=[8,5])\n",
    "plt.title('Number of Companies', fontsize=23)\n",
    "date_counts.plot( color=['orange'], fontsize=12, linewidth=3)\n",
    "plt.xlabel('year of angel round', fontsize=15)\n",
    "plt.ylabel('# of companies', fontsize=15)\n",
    "plt.show()"
   ]
  },
  {
   "cell_type": "code",
   "execution_count": null,
   "metadata": {},
   "outputs": [],
   "source": []
  },
  {
   "cell_type": "code",
   "execution_count": null,
   "metadata": {},
   "outputs": [],
   "source": []
  },
  {
   "cell_type": "code",
   "execution_count": null,
   "metadata": {},
   "outputs": [],
   "source": []
  }
 ],
 "metadata": {
  "kernelspec": {
   "display_name": "Python 3",
   "language": "python",
   "name": "python3"
  },
  "language_info": {
   "codemirror_mode": {
    "name": "ipython",
    "version": 3
   },
   "file_extension": ".py",
   "mimetype": "text/x-python",
   "name": "python",
   "nbconvert_exporter": "python",
   "pygments_lexer": "ipython3",
   "version": "3.6.2"
  }
 },
 "nbformat": 4,
 "nbformat_minor": 2
}
